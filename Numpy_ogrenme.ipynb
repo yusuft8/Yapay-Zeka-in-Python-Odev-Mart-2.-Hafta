{
 "cells": [
  {
   "cell_type": "code",
   "execution_count": null,
   "id": "ba937bc6-3093-4135-950d-0af6659fce13",
   "metadata": {},
   "outputs": [],
   "source": [
    "import numpy as np "
   ]
  },
  {
   "cell_type": "code",
   "execution_count": null,
   "id": "14843117-46f4-4740-9518-cb53be15d2ae",
   "metadata": {},
   "outputs": [],
   "source": [
    "Data = [[1,2,3],[4,5,6],[7,8,9]]"
   ]
  },
  {
   "cell_type": "code",
   "execution_count": null,
   "id": "70c680e5-5682-4a4e-abc6-c85438e2842a",
   "metadata": {},
   "outputs": [
    {
     "data": {
      "text/plain": [
       "[[1, 2, 3], [4, 5, 6], [7, 8, 9]]"
      ]
     },
     "execution_count": 6,
     "metadata": {},
     "output_type": "execute_result"
    }
   ],
   "source": [
    "Data"
   ]
  },
  {
   "cell_type": "code",
   "execution_count": 8,
   "id": "38d7e45d-7db7-497e-8959-a7ca6b04166f",
   "metadata": {},
   "outputs": [
    {
     "data": {
      "text/plain": [
       "array([[1, 2, 3],\n",
       "       [4, 5, 6],\n",
       "       [7, 8, 9]])"
      ]
     },
     "execution_count": 8,
     "metadata": {},
     "output_type": "execute_result"
    }
   ],
   "source": [
    "Array = np.array(Data)\n",
    "Array"
   ]
  },
  {
   "cell_type": "code",
   "execution_count": 22,
   "id": "a771421a-b583-48a2-904a-2f3fd5a4cbbd",
   "metadata": {},
   "outputs": [
    {
     "data": {
      "text/plain": [
       "array([7, 8, 9])"
      ]
     },
     "execution_count": 22,
     "metadata": {},
     "output_type": "execute_result"
    }
   ],
   "source": [
    "Array[2]"
   ]
  },
  {
   "cell_type": "code",
   "execution_count": 24,
   "id": "73b51179-ebc7-4fd1-bd4b-346ba9b9ee24",
   "metadata": {},
   "outputs": [
    {
     "data": {
      "text/plain": [
       "np.int64(7)"
      ]
     },
     "execution_count": 24,
     "metadata": {},
     "output_type": "execute_result"
    }
   ],
   "source": [
    "Array[2,0]"
   ]
  },
  {
   "cell_type": "code",
   "execution_count": 28,
   "id": "384fc6fe-ed63-49d6-86f6-b4a0e4c2fd97",
   "metadata": {},
   "outputs": [
    {
     "data": {
      "text/plain": [
       "np.int64(1)"
      ]
     },
     "execution_count": 28,
     "metadata": {},
     "output_type": "execute_result"
    }
   ],
   "source": [
    "Array[0,0]"
   ]
  },
  {
   "cell_type": "markdown",
   "id": "aba662a6-2765-4a6e-a3d0-fa94acefbad1",
   "metadata": {},
   "source": [
    "Arange fonksiyonu, verdiğiniz 2 sayı arasını Array’e çevirir."
   ]
  },
  {
   "cell_type": "code",
   "execution_count": 31,
   "id": "50035dfc-3356-4292-87ca-9cc0ea581dc7",
   "metadata": {},
   "outputs": [
    {
     "data": {
      "text/plain": [
       "array([ 0,  1,  2,  3,  4,  5,  6,  7,  8,  9, 10, 11, 12, 13, 14, 15, 16,\n",
       "       17, 18, 19, 20, 21, 22, 23, 24, 25, 26, 27, 28, 29, 30, 31, 32, 33,\n",
       "       34, 35, 36, 37, 38, 39, 40, 41, 42, 43, 44, 45, 46, 47, 48, 49, 50,\n",
       "       51, 52, 53, 54, 55])"
      ]
     },
     "execution_count": 31,
     "metadata": {},
     "output_type": "execute_result"
    }
   ],
   "source": [
    "np.arange(0,56)\n"
   ]
  },
  {
   "cell_type": "code",
   "execution_count": 41,
   "id": "cdfac168-0981-4f43-b6d5-7a154f7550be",
   "metadata": {},
   "outputs": [
    {
     "data": {
      "text/plain": [
       "array([ 0,  8, 16, 24, 32, 40, 48, 56])"
      ]
     },
     "execution_count": 41,
     "metadata": {},
     "output_type": "execute_result"
    }
   ],
   "source": [
    "np.arange(0,57,8)\n"
   ]
  },
  {
   "cell_type": "markdown",
   "id": "b75c943e-2ddc-4261-b6cb-e9d39dbe8f67",
   "metadata": {},
   "source": [
    "Zeros Fonksiyonu, belirttiğiniz miktar kadar 0'lardan oluşan bir Array yaratacaktır."
   ]
  },
  {
   "cell_type": "code",
   "execution_count": 44,
   "id": "76b0a620-e648-4310-b89c-a6c1a02e9f9d",
   "metadata": {},
   "outputs": [
    {
     "data": {
      "text/plain": [
       "array([0., 0., 0., 0., 0., 0., 0., 0., 0., 0., 0., 0., 0., 0., 0., 0., 0.,\n",
       "       0., 0., 0., 0., 0., 0., 0., 0., 0., 0., 0., 0., 0., 0., 0., 0., 0.,\n",
       "       0., 0., 0., 0., 0., 0., 0., 0., 0., 0., 0., 0., 0., 0., 0., 0., 0.,\n",
       "       0., 0., 0., 0., 0., 0., 0., 0., 0., 0., 0., 0., 0., 0., 0., 0., 0.,\n",
       "       0., 0., 0., 0., 0., 0., 0., 0., 0., 0., 0., 0., 0., 0., 0., 0., 0.,\n",
       "       0., 0., 0., 0., 0., 0., 0., 0., 0., 0., 0., 0., 0., 0., 0.])"
      ]
     },
     "execution_count": 44,
     "metadata": {},
     "output_type": "execute_result"
    }
   ],
   "source": [
    "np.zeros(100)"
   ]
  },
  {
   "cell_type": "markdown",
   "id": "5938c54f-5238-40ed-88cf-b202aaa1763f",
   "metadata": {},
   "source": [
    "Ones Fonksiyonu, belirttiğiniz miktar kadar 1'lerden oluşan bir Array oluşturacaktır.\n",
    "\n"
   ]
  },
  {
   "cell_type": "code",
   "execution_count": 49,
   "id": "256cd571-2baf-4c9f-a339-cead91d216e0",
   "metadata": {},
   "outputs": [
    {
     "data": {
      "text/plain": [
       "array([1., 1., 1., 1., 1., 1., 1., 1., 1., 1., 1., 1., 1., 1., 1., 1., 1.,\n",
       "       1., 1., 1., 1., 1., 1., 1., 1., 1., 1., 1., 1., 1., 1., 1., 1., 1.,\n",
       "       1., 1., 1., 1., 1., 1., 1., 1., 1., 1., 1., 1., 1., 1., 1., 1., 1.,\n",
       "       1., 1., 1., 1., 1., 1., 1., 1., 1., 1., 1., 1., 1., 1., 1., 1., 1.,\n",
       "       1., 1., 1., 1., 1., 1., 1., 1., 1., 1., 1., 1., 1., 1., 1., 1., 1.,\n",
       "       1., 1., 1., 1., 1., 1., 1., 1., 1., 1., 1., 1., 1., 1., 1.])"
      ]
     },
     "execution_count": 49,
     "metadata": {},
     "output_type": "execute_result"
    }
   ],
   "source": [
    "np.ones(100)"
   ]
  },
  {
   "cell_type": "code",
   "execution_count": 55,
   "id": "53d691be-4ad6-4c05-a028-2e7fa3c03c90",
   "metadata": {},
   "outputs": [
    {
     "data": {
      "text/plain": [
       "array([[1., 1., 1., 1.],\n",
       "       [1., 1., 1., 1.],\n",
       "       [1., 1., 1., 1.],\n",
       "       [1., 1., 1., 1.],\n",
       "       [1., 1., 1., 1.],\n",
       "       [1., 1., 1., 1.],\n",
       "       [1., 1., 1., 1.],\n",
       "       [1., 1., 1., 1.],\n",
       "       [1., 1., 1., 1.],\n",
       "       [1., 1., 1., 1.],\n",
       "       [1., 1., 1., 1.],\n",
       "       [1., 1., 1., 1.],\n",
       "       [1., 1., 1., 1.],\n",
       "       [1., 1., 1., 1.],\n",
       "       [1., 1., 1., 1.],\n",
       "       [1., 1., 1., 1.],\n",
       "       [1., 1., 1., 1.],\n",
       "       [1., 1., 1., 1.],\n",
       "       [1., 1., 1., 1.],\n",
       "       [1., 1., 1., 1.],\n",
       "       [1., 1., 1., 1.],\n",
       "       [1., 1., 1., 1.],\n",
       "       [1., 1., 1., 1.],\n",
       "       [1., 1., 1., 1.],\n",
       "       [1., 1., 1., 1.]])"
      ]
     },
     "execution_count": 55,
     "metadata": {},
     "output_type": "execute_result"
    }
   ],
   "source": [
    "np.ones((25,4))\n",
    "#bu şekilde yazarak istediğimiz matrisi oluşturabiliyorum artı olarak zerodtada geçerli"
   ]
  },
  {
   "cell_type": "markdown",
   "id": "d29de4c7-93d9-4e01-8ef3-43ec92483196",
   "metadata": {},
   "source": [
    "eye fonksiyonu çapraz matris oluştur.0 ve 1 lerden oluşur ve 1 ler sol üst köşeden sağ alt köşeye doğru yerleşir"
   ]
  },
  {
   "cell_type": "code",
   "execution_count": 60,
   "id": "7733163a-6ea4-426e-8d09-4b234545a303",
   "metadata": {},
   "outputs": [
    {
     "data": {
      "text/plain": [
       "array([[1., 0., 0., 0., 0.],\n",
       "       [0., 1., 0., 0., 0.],\n",
       "       [0., 0., 1., 0., 0.],\n",
       "       [0., 0., 0., 1., 0.],\n",
       "       [0., 0., 0., 0., 1.]])"
      ]
     },
     "execution_count": 60,
     "metadata": {},
     "output_type": "execute_result"
    }
   ],
   "source": [
    "np.eye(5)"
   ]
  },
  {
   "cell_type": "markdown",
   "id": "0b583f4a-195a-4f40-8327-c0e1d613ffee",
   "metadata": {},
   "source": [
    "Linspace Fonskiyonu genel olarak 3 değer alır. İlk 2 değer arasında olan sayıları 3. sayıya eşit olarak dağıtır."
   ]
  },
  {
   "cell_type": "code",
   "execution_count": 66,
   "id": "0480a47f-5191-4cd5-960b-577d679020f4",
   "metadata": {},
   "outputs": [
    {
     "data": {
      "text/plain": [
       "array([  0.,  25.,  50.,  75., 100.])"
      ]
     },
     "execution_count": 66,
     "metadata": {},
     "output_type": "execute_result"
    }
   ],
   "source": [
    "np.linspace(0,100,5)\n",
    "#0 ve 100 arasını 5 ölçeğe ayırdı"
   ]
  },
  {
   "cell_type": "code",
   "execution_count": 70,
   "id": "322027be-be02-49d2-9d54-51a3c3883ee4",
   "metadata": {},
   "outputs": [
    {
     "data": {
      "text/plain": [
       "array([ 0., 15., 30.])"
      ]
     },
     "execution_count": 70,
     "metadata": {},
     "output_type": "execute_result"
    }
   ],
   "source": [
    "np.linspace(0,30,3)"
   ]
  },
  {
   "cell_type": "markdown",
   "id": "23c079eb-f72c-43a7-bc2e-185b17fab125",
   "metadata": {},
   "source": [
    "Random fonksiyonları"
   ]
  },
  {
   "cell_type": "markdown",
   "id": "c489dcce-e249-4a97-a14f-6024ebe6c75c",
   "metadata": {},
   "source": [
    "Random.Randint fonksiyonu girilen 2 değer arasında rastgele 2 değer üretir .Parantez içine girilen 3. sayı ise kaç tane rastgele sayı istediğini belirtir"
   ]
  },
  {
   "cell_type": "code",
   "execution_count": 75,
   "id": "9ef285de-57f0-4434-a753-7693f463d2b5",
   "metadata": {},
   "outputs": [
    {
     "data": {
      "text/plain": [
       "105"
      ]
     },
     "execution_count": 75,
     "metadata": {},
     "output_type": "execute_result"
    }
   ],
   "source": [
    "np.random.randint(100,200)"
   ]
  },
  {
   "cell_type": "code",
   "execution_count": 77,
   "id": "f3114aaf-43a0-45dc-8e88-5feda7abcda0",
   "metadata": {},
   "outputs": [
    {
     "data": {
      "text/plain": [
       "array([22, 33, 24, 46, 13], dtype=int32)"
      ]
     },
     "execution_count": 77,
     "metadata": {},
     "output_type": "execute_result"
    }
   ],
   "source": [
    "np.random.randint(10,50,5)"
   ]
  },
  {
   "cell_type": "raw",
   "id": "edeaa7c2-dedc-4c0f-b959-263244b1b053",
   "metadata": {},
   "source": [
    "Random.rand fonksiyonu 0 ve 1 arasındaki rastgele değerleri çağırır parantezin içine yazılacak değer kaç tane değer istediğimiz olur"
   ]
  },
  {
   "cell_type": "code",
   "execution_count": 98,
   "id": "727803f2-2cfa-411d-9657-3bf43fd66cb1",
   "metadata": {},
   "outputs": [
    {
     "data": {
      "text/plain": [
       "array([0.69510446, 0.48284575, 0.234305  , 0.32658616, 0.33208841,\n",
       "       0.29881856, 0.17620912, 0.19470012, 0.32745002, 0.76153738])"
      ]
     },
     "execution_count": 98,
     "metadata": {},
     "output_type": "execute_result"
    }
   ],
   "source": [
    "\n",
    "np.random.rand(10)"
   ]
  },
  {
   "cell_type": "markdown",
   "id": "c1401359-e308-4d14-926e-6f3608767a6f",
   "metadata": {},
   "source": [
    "Random.randn fonksiyonu -1 ve 1 arasındaki rastgele değerleri çağırır parantezin içine yazılacak değer kaç tane değer istediğimiz olur"
   ]
  },
  {
   "cell_type": "code",
   "execution_count": 94,
   "id": "4e64162f-a769-40a5-b8fe-17efd8601e56",
   "metadata": {},
   "outputs": [
    {
     "data": {
      "text/plain": [
       "array([-0.33039893, -1.29804397,  1.1716307 ,  0.42438677,  0.93336486,\n",
       "        1.36877139, -0.6120802 ,  1.85132569,  1.02378242, -1.12154553,\n",
       "       -2.72900067, -0.38644485, -0.09396727,  1.47614739,  0.84523126,\n",
       "        0.28780744, -0.14427066, -0.56295394, -0.89847295,  1.79230474,\n",
       "       -0.37285402,  0.40238966,  0.08439791, -2.1428713 ,  0.84124582,\n",
       "        0.35205813, -1.45669533,  2.4145798 ,  0.05223175,  0.04610375,\n",
       "       -0.22507922, -1.09954064,  1.12944686,  0.73474836,  0.7269676 ,\n",
       "        0.16188519,  0.41903851, -1.02464903,  0.7765404 ,  0.57051945,\n",
       "       -0.35092812,  1.47091584,  0.55011084,  1.47326968,  0.55521343,\n",
       "       -1.03802102, -0.54287604,  0.98525315, -2.20082241, -0.47133076,\n",
       "       -0.58234317, -1.16160373,  0.07047075, -1.01090958, -1.41211486,\n",
       "       -0.20286892, -0.07588904, -0.69088096,  1.21954203, -1.13281206,\n",
       "       -0.84723281,  0.06892925,  1.99254302, -0.10919112, -1.00864856,\n",
       "       -0.15612518, -2.47398056, -1.22736682,  0.54408977, -0.5374706 ,\n",
       "        0.82056094, -1.45281973,  0.20206502, -0.47146449, -0.16711607,\n",
       "       -0.5870552 ,  0.05515512, -1.76616533,  0.81633362, -0.67245057,\n",
       "        0.85411427,  1.26126267,  1.66032248,  1.71379443,  1.61844417,\n",
       "        0.25221239,  0.98748398,  2.99055226,  0.76981264,  3.15251062,\n",
       "        0.04991427,  0.89844892, -0.91396289, -1.32859395,  1.29193983,\n",
       "        1.09876695, -1.14280877,  1.23895885,  0.5717048 , -0.17802448])"
      ]
     },
     "execution_count": 94,
     "metadata": {},
     "output_type": "execute_result"
    }
   ],
   "source": [
    "np.random.randn(100)"
   ]
  },
  {
   "cell_type": "code",
   "execution_count": 112,
   "id": "55ca17ed-3eb5-4499-8772-283ba61abc0a",
   "metadata": {},
   "outputs": [
    {
     "data": {
      "text/plain": [
       "array([ 0,  1,  2,  3,  4,  5,  6,  7,  8,  9, 10, 11, 12, 13, 14, 15, 16,\n",
       "       17, 18, 19, 20, 21, 22, 23, 24, 25, 26, 27, 28, 29, 30, 31, 32, 33,\n",
       "       34, 35])"
      ]
     },
     "execution_count": 112,
     "metadata": {},
     "output_type": "execute_result"
    }
   ],
   "source": [
    "data1= np.arange(36)\n",
    "data1"
   ]
  },
  {
   "cell_type": "markdown",
   "id": "144eae13-b0eb-4870-8da1-ddcf04bd4e65",
   "metadata": {},
   "source": [
    "reshape fonksiyonu matrisi şekillendirir"
   ]
  },
  {
   "cell_type": "code",
   "execution_count": 118,
   "id": "60a6603e-2592-490a-bdc3-a2a3c890c23b",
   "metadata": {},
   "outputs": [
    {
     "data": {
      "text/plain": [
       "array([[ 0,  1,  2,  3,  4,  5],\n",
       "       [ 6,  7,  8,  9, 10, 11],\n",
       "       [12, 13, 14, 15, 16, 17],\n",
       "       [18, 19, 20, 21, 22, 23],\n",
       "       [24, 25, 26, 27, 28, 29],\n",
       "       [30, 31, 32, 33, 34, 35]])"
      ]
     },
     "execution_count": 118,
     "metadata": {},
     "output_type": "execute_result"
    }
   ],
   "source": [
    "data1.reshape(6,6)"
   ]
  },
  {
   "cell_type": "code",
   "execution_count": 121,
   "id": "2a53d37d-13fa-4091-8c0d-5796deba5aba",
   "metadata": {},
   "outputs": [
    {
     "data": {
      "text/plain": [
       "array([[ 0,  1,  2,  3,  4,  5,  6,  7,  8],\n",
       "       [ 9, 10, 11, 12, 13, 14, 15, 16, 17],\n",
       "       [18, 19, 20, 21, 22, 23, 24, 25, 26],\n",
       "       [27, 28, 29, 30, 31, 32, 33, 34, 35]])"
      ]
     },
     "execution_count": 121,
     "metadata": {},
     "output_type": "execute_result"
    }
   ],
   "source": [
    "data1.reshape(4,9)"
   ]
  },
  {
   "cell_type": "markdown",
   "id": "78110029-8cca-4b81-a0a4-6724c30510eb",
   "metadata": {},
   "source": [
    "cumsum fonksiyonu kümülatif olarak toplar.Asağıdaki örnekte artış miktari birer birer artmıştır"
   ]
  },
  {
   "cell_type": "code",
   "execution_count": 133,
   "id": "b7be676a-0de5-4eaf-8902-319059f228fc",
   "metadata": {},
   "outputs": [
    {
     "data": {
      "text/plain": [
       "array([  0,   1,   3,   6,  10,  15,  21,  28,  36,  45,  55,  66,  78,\n",
       "        91, 105, 120, 136, 153, 171, 190, 210, 231, 253, 276, 300, 325,\n",
       "       351, 378, 406, 435, 465, 496, 528, 561, 595, 630])"
      ]
     },
     "execution_count": 133,
     "metadata": {},
     "output_type": "execute_result"
    }
   ],
   "source": [
    "data1.cumsum()"
   ]
  },
  {
   "cell_type": "markdown",
   "id": "d6982324-2b20-49a4-99bf-f84d5708740d",
   "metadata": {},
   "source": [
    "argmax kısaca en büyük değere sahip değerin indexsini verir"
   ]
  },
  {
   "cell_type": "code",
   "execution_count": 143,
   "id": "638e7230-1159-42bc-971f-dd8f1ffdff7d",
   "metadata": {},
   "outputs": [
    {
     "data": {
      "text/plain": [
       "np.int64(35)"
      ]
     },
     "execution_count": 143,
     "metadata": {},
     "output_type": "execute_result"
    }
   ],
   "source": [
    "data1.argmax()"
   ]
  },
  {
   "cell_type": "markdown",
   "id": "9f346cd2-eae6-4506-90a9-33d840e083a0",
   "metadata": {},
   "source": [
    "argmin() de aynı mantık üzerine kurulu sadece en düşük değeri verecektir."
   ]
  },
  {
   "cell_type": "code",
   "execution_count": 157,
   "id": "8e6b0329-859b-4bdb-ad6b-c4d436a37f7f",
   "metadata": {},
   "outputs": [
    {
     "data": {
      "text/plain": [
       "np.int64(0)"
      ]
     },
     "execution_count": 157,
     "metadata": {},
     "output_type": "execute_result"
    }
   ],
   "source": [
    "data1.argmin()"
   ]
  },
  {
   "cell_type": "markdown",
   "id": "0183cd2d-f573-4ba3-b4c9-3775321fd030",
   "metadata": {},
   "source": [
    "np.linalg.det() arrayin determinantını almay yarar"
   ]
  },
  {
   "cell_type": "code",
   "execution_count": 162,
   "id": "ae7d25fd-2ae4-4f37-af28-7c6a092dd304",
   "metadata": {},
   "outputs": [
    {
     "data": {
      "text/plain": [
       "np.float64(-2.0000000000000004)"
      ]
     },
     "execution_count": 162,
     "metadata": {},
     "output_type": "execute_result"
    }
   ],
   "source": [
    "data2 = np.array([[1,2],[3,4]])\n",
    "np.linalg.det(data2)"
   ]
  },
  {
   "cell_type": "markdown",
   "id": "b8e40db6-c23b-4523-a227-c6fa77d81134",
   "metadata": {},
   "source": [
    "np.std() standart sapmayı bbulur"
   ]
  },
  {
   "cell_type": "code",
   "execution_count": 172,
   "id": "9e7a683c-5650-44a8-9944-9caf2a47d931",
   "metadata": {},
   "outputs": [
    {
     "data": {
      "text/plain": [
       "np.float64(10.388294694831615)"
      ]
     },
     "execution_count": 172,
     "metadata": {},
     "output_type": "execute_result"
    }
   ],
   "source": [
    "np.std(data1)"
   ]
  },
  {
   "cell_type": "code",
   "execution_count": 180,
   "id": "dba8a649-0c55-49c6-9792-e14e837732f3",
   "metadata": {},
   "outputs": [
    {
     "data": {
      "text/plain": [
       "array([ 0,  1,  2,  3,  4,  5,  6,  7,  8,  9, 10, 11, 12, 13, 14, 15, 16,\n",
       "       17, 18, 19, 20, 21, 22, 23, 24, 25, 26, 27, 28, 29, 30, 31, 32, 33,\n",
       "       34, 35, 36, 37, 38, 39, 40, 41, 42, 43, 44, 45, 46, 47, 48, 49, 50,\n",
       "       51, 52, 53, 54, 55, 56, 57, 58, 59, 60, 61, 62, 63, 64, 65, 66, 67,\n",
       "       68, 69, 70, 71, 72, 73, 74, 75, 76, 77, 78, 79, 80, 81, 82, 83, 84,\n",
       "       85, 86, 87, 88, 89, 90, 91, 92, 93, 94, 95, 96, 97, 98, 99])"
      ]
     },
     "execution_count": 180,
     "metadata": {},
     "output_type": "execute_result"
    }
   ],
   "source": [
    "data3 = np.arange(0,100)\n",
    "data3"
   ]
  },
  {
   "cell_type": "code",
   "execution_count": 186,
   "id": "fdf52550-b07c-4eef-83e0-db08ecaee8c8",
   "metadata": {},
   "outputs": [
    {
     "data": {
      "text/plain": [
       "array([0, 1, 2, 3, 4, 5])"
      ]
     },
     "execution_count": 186,
     "metadata": {},
     "output_type": "execute_result"
    }
   ],
   "source": [
    "data3[:6]\n",
    "#:x ifadesinie girilen değere kadar olan değeri bastırır"
   ]
  },
  {
   "cell_type": "code",
   "execution_count": 190,
   "id": "a6974ed7-9c55-489c-8567-2c85d06bee2a",
   "metadata": {},
   "outputs": [
    {
     "data": {
      "text/plain": [
       "array([ 0, 10, 20, 30, 40, 50, 60, 70, 80, 90])"
      ]
     },
     "execution_count": 190,
     "metadata": {},
     "output_type": "execute_result"
    }
   ],
   "source": [
    "data3[::10]\n",
    "#::X x ifadesi kadar atlanarak bastırır"
   ]
  },
  {
   "cell_type": "code",
   "execution_count": 194,
   "id": "4be95ed5-ee13-4fb5-8492-047680c48683",
   "metadata": {},
   "outputs": [
    {
     "data": {
      "text/plain": [
       "array([False, False, False, False, False, False, False, False, False,\n",
       "       False, False, False, False, False, False, False, False, False,\n",
       "       False, False, False, False, False, False, False, False, False,\n",
       "       False, False, False, False, False, False, False, False, False,\n",
       "       False, False, False, False, False,  True,  True,  True,  True,\n",
       "        True,  True,  True,  True,  True,  True,  True,  True,  True,\n",
       "        True,  True,  True,  True,  True,  True,  True,  True,  True,\n",
       "        True,  True,  True,  True,  True,  True,  True,  True,  True,\n",
       "        True,  True,  True,  True,  True,  True,  True,  True,  True,\n",
       "        True,  True,  True,  True,  True,  True,  True,  True,  True,\n",
       "        True,  True,  True,  True,  True,  True,  True,  True,  True,\n",
       "        True])"
      ]
     },
     "execution_count": 194,
     "metadata": {},
     "output_type": "execute_result"
    }
   ],
   "source": [
    "data3>40\n",
    "#verilen ifadenin dopruluk değerini tek tek karşılaştırarak true false verir"
   ]
  },
  {
   "cell_type": "code",
   "execution_count": 200,
   "id": "3161c1a6-88fe-4ca3-a0f2-5012b72667df",
   "metadata": {},
   "outputs": [],
   "source": [
    "array1 = np.array([1,2,3,4,5,6])\n",
    "array2 = np.array([7,8,9,10,11,12])\n"
   ]
  },
  {
   "cell_type": "code",
   "execution_count": 202,
   "id": "a7d6a6ed-746c-4e52-9114-5f286c73087d",
   "metadata": {},
   "outputs": [
    {
     "data": {
      "text/plain": [
       "array([ 8, 10, 12, 14, 16, 18])"
      ]
     },
     "execution_count": 202,
     "metadata": {},
     "output_type": "execute_result"
    }
   ],
   "source": [
    "array1+array2"
   ]
  },
  {
   "cell_type": "code",
   "execution_count": 204,
   "id": "ad37b9d4-112a-4069-a0a6-eb5aaa222037",
   "metadata": {},
   "outputs": [
    {
     "data": {
      "text/plain": [
       "array([-6, -6, -6, -6, -6, -6])"
      ]
     },
     "execution_count": 204,
     "metadata": {},
     "output_type": "execute_result"
    }
   ],
   "source": [
    "array1-array2"
   ]
  },
  {
   "cell_type": "code",
   "execution_count": 206,
   "id": "5ed4a046-d753-449f-b985-7e4060ef548a",
   "metadata": {},
   "outputs": [
    {
     "data": {
      "text/plain": [
       "array([ 7, 16, 27, 40, 55, 72])"
      ]
     },
     "execution_count": 206,
     "metadata": {},
     "output_type": "execute_result"
    }
   ],
   "source": [
    "array1*array2"
   ]
  },
  {
   "cell_type": "code",
   "execution_count": 210,
   "id": "54fb3f4d-ddfe-44fe-a821-a2f496dae5f4",
   "metadata": {},
   "outputs": [
    {
     "data": {
      "text/plain": [
       "array([7. , 4. , 3. , 2.5, 2.2, 2. ])"
      ]
     },
     "execution_count": 210,
     "metadata": {},
     "output_type": "execute_result"
    }
   ],
   "source": [
    "array2/array1"
   ]
  },
  {
   "cell_type": "code",
   "execution_count": 212,
   "id": "e0979be1-c4d7-495b-a1ed-51d5a4a45e56",
   "metadata": {},
   "outputs": [
    {
     "data": {
      "text/plain": [
       "array([         1,        256,      19683,    1048576,   48828125,\n",
       "       2176782336])"
      ]
     },
     "execution_count": 212,
     "metadata": {},
     "output_type": "execute_result"
    }
   ],
   "source": [
    "array1**array2"
   ]
  },
  {
   "cell_type": "code",
   "execution_count": 214,
   "id": "c88af634-7c46-4c8c-8123-a00babf056b4",
   "metadata": {},
   "outputs": [
    {
     "data": {
      "text/plain": [
       "array([1.        , 1.41421356, 1.73205081, 2.        , 2.23606798,\n",
       "       2.44948974])"
      ]
     },
     "execution_count": 214,
     "metadata": {},
     "output_type": "execute_result"
    }
   ],
   "source": [
    "np.sqrt(array1)"
   ]
  }
 ],
 "metadata": {
  "kernelspec": {
   "display_name": "Python [conda env:python_a]",
   "language": "python",
   "name": "conda-env-python_a-py"
  },
  "language_info": {
   "codemirror_mode": {
    "name": "ipython",
    "version": 3
   },
   "file_extension": ".py",
   "mimetype": "text/x-python",
   "name": "python",
   "nbconvert_exporter": "python",
   "pygments_lexer": "ipython3",
   "version": "3.9.21"
  }
 },
 "nbformat": 4,
 "nbformat_minor": 5
}
